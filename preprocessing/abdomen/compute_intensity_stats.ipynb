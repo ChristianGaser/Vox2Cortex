{
 "cells": [
  {
   "cell_type": "code",
   "execution_count": null,
   "id": "4153b630",
   "metadata": {},
   "outputs": [],
   "source": [
    "# Compute global stats for intensity normalization\n",
    "\n",
    "import os\n",
    "import numpy as np\n",
    "import nibabel as nib\n",
    "import matplotlib.pyplot as plt\n",
    "from tqdm.notebook import tqdm\n",
    "\n",
    "PATH = \"/path/to/AbdomenCT-1K/\"\n",
    "ID_FILE = \"/path/to/train_ids.txt\"\n",
    "OUT_FILE = \"/path/to/intensity_stats.csv\""
   ]
  },
  {
   "cell_type": "code",
   "execution_count": null,
   "id": "a136a8fe",
   "metadata": {},
   "outputs": [],
   "source": [
    "# Foreground voxels\n",
    "i_vals_fg = []\n",
    "ids = [l.rstrip('\\n') for l in open(ID_FILE, 'r').readlines()]\n",
    "for i in tqdm(ids):\n",
    "    img = nib.load(os.path.join(PATH, i, \"registered_img.nii.gz\")).get_fdata()\n",
    "    if not np.isfinite(img).all():\n",
    "        raise ValueError(f\"Image {i} not finite.\")\n",
    "    label = nib.load(os.path.join(PATH, i, \"registered_label.nii.gz\")).get_fdata()\n",
    "    i_vals_fg.append(img[label != 0])\n",
    "i_vals_fg = np.concatenate(i_vals_fg).flatten()\n",
    "\n",
    "_ = plt.hist(i_vals_fg, bins=100)"
   ]
  },
  {
   "cell_type": "code",
   "execution_count": null,
   "id": "cb86b461",
   "metadata": {},
   "outputs": [],
   "source": [
    "# Stats\n",
    "perc005 = np.percentile(i_vals_fg, 0.5)\n",
    "perc995 = np.percentile(i_vals_fg, 99.5)\n",
    "mean = np.mean(i_vals_fg)\n",
    "std = np.std(i_vals_fg)\n",
    "\n",
    "out_str = \"perc005,perc995,mean,std\\n\"\n",
    "out_str += f\"{perc005},{perc995},{mean},{std}\\n\"\n",
    "out_str += f\"Used IDs (n={len(ids)})\\n\"\n",
    "out_str += \",\".join(ids)\n",
    "out_str += \"\\n\"\n",
    "\n",
    "print(out_str)\n",
    "with open(OUT_FILE, 'w') as file:\n",
    "    file.write(out_str)"
   ]
  },
  {
   "cell_type": "code",
   "execution_count": null,
   "id": "bb6926cc",
   "metadata": {},
   "outputs": [],
   "source": [
    "# Before normalization\n",
    "img = nib.load(os.path.join(PATH, ids[1], \"registered_img.nii.gz\")).get_fdata()\n",
    "fig, axs = plt.subplots(2, 1)\n",
    "axs[0].imshow(np.rot90(img[100, :, :], 1), cmap=\"gray\")\n",
    "_ = axs[1].hist(img.flatten(), bins=100)"
   ]
  },
  {
   "cell_type": "code",
   "execution_count": null,
   "id": "015f11ab",
   "metadata": {},
   "outputs": [],
   "source": [
    "import sys\n",
    "sys.path.append(\"/home/fabianb/work/vox2organ/vox2organ\")\n",
    "from utils.utils import global_clip_and_zscore_norm\n",
    "\n",
    "norm_img = global_clip_and_zscore_norm(img, perc005, perc995, mean, std)"
   ]
  },
  {
   "cell_type": "code",
   "execution_count": null,
   "id": "28340f52",
   "metadata": {},
   "outputs": [],
   "source": [
    "# After normalization\n",
    "fig, axs = plt.subplots(2, 1)\n",
    "axs[0].imshow(np.rot90(norm_img[100, :, :], 1), cmap=\"gray\")\n",
    "_ = axs[1].hist(norm_img.flatten(), bins=100, range=(-2.5, 2.5))"
   ]
  },
  {
   "cell_type": "code",
   "execution_count": null,
   "id": "32cbfced",
   "metadata": {},
   "outputs": [],
   "source": []
  }
 ],
 "metadata": {
  "kernelspec": {
   "display_name": "Python 3 (ipykernel)",
   "language": "python",
   "name": "python3"
  },
  "language_info": {
   "codemirror_mode": {
    "name": "ipython",
    "version": 3
   },
   "file_extension": ".py",
   "mimetype": "text/x-python",
   "name": "python",
   "nbconvert_exporter": "python",
   "pygments_lexer": "ipython3",
   "version": "3.9.12"
  }
 },
 "nbformat": 4,
 "nbformat_minor": 5
}
